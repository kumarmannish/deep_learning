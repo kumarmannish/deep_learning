{
 "cells": [
  {
   "cell_type": "code",
   "execution_count": 1,
   "id": "initial_id",
   "metadata": {
    "collapsed": true,
    "ExecuteTime": {
     "end_time": "2023-11-03T11:54:34.857634300Z",
     "start_time": "2023-11-03T11:54:31.469546200Z"
    }
   },
   "outputs": [],
   "source": [
    "import numpy as np\n",
    "\n",
    "import torch\n",
    "import torch.nn as nn\n",
    "import torch.nn.functional as f\n",
    "\n",
    "import matplotlib_inline\n",
    "matplotlib_inline.backend_inline.set_matplotlib_formats(\"svg\")\n",
    "import matplotlib.pyplot as plt"
   ]
  },
  {
   "cell_type": "code",
   "execution_count": 2,
   "outputs": [],
   "source": [
    "data = np.loadtxt(open(\"mnist_train_small.csv\", \"rb\"), delimiter=\",\")\n",
    "\n",
    "data = data[:, 1:]\n",
    "\n",
    "data_norm = data / np.max(data)\n",
    "\n",
    "data_tensor = torch.FloatTensor(data_norm)"
   ],
   "metadata": {
    "collapsed": false,
    "ExecuteTime": {
     "end_time": "2023-11-03T11:54:37.041919200Z",
     "start_time": "2023-11-03T11:54:34.861626100Z"
    }
   },
   "id": "bf92653245b88d53"
  },
  {
   "cell_type": "code",
   "execution_count": 3,
   "outputs": [],
   "source": [
    "def create_autoencoders():\n",
    "\n",
    "    class Model(nn.Module):\n",
    "        def __init__(self):\n",
    "            super().__init__()\n",
    "            self.input = nn.Linear(784, 150)\n",
    "            self.enc = nn.Parameter(torch.randn(50, 150))\n",
    "            self.dec = nn.Linear(150, 784)\n",
    "\n",
    "        def forward(self, x):\n",
    "            x = f.relu(self.input(x))\n",
    "            x = x.T\n",
    "            x = f.relu(self.enc@x)\n",
    "            x = f.relu(self.enc.T@x)\n",
    "            x = x.T\n",
    "            return torch.sigmoid(self.dec(x))\n",
    "\n",
    "    model = Model()\n",
    "\n",
    "    loss_fun = nn.MSELoss()\n",
    "\n",
    "    optimizer = torch.optim.Adam(model.parameters(), lr = 0.001)\n",
    "\n",
    "    return model, loss_fun, optimizer"
   ],
   "metadata": {
    "collapsed": false,
    "ExecuteTime": {
     "end_time": "2023-11-03T11:54:37.057082500Z",
     "start_time": "2023-11-03T11:54:37.043914Z"
    }
   },
   "id": "28bfc34367f7994e"
  }
 ],
 "metadata": {
  "kernelspec": {
   "display_name": "Python 3",
   "language": "python",
   "name": "python3"
  },
  "language_info": {
   "codemirror_mode": {
    "name": "ipython",
    "version": 2
   },
   "file_extension": ".py",
   "mimetype": "text/x-python",
   "name": "python",
   "nbconvert_exporter": "python",
   "pygments_lexer": "ipython2",
   "version": "2.7.6"
  }
 },
 "nbformat": 4,
 "nbformat_minor": 5
}
